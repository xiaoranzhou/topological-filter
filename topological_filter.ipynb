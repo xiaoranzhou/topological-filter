{
 "cells": [
  {
   "cell_type": "markdown",
   "metadata": {},
   "source": [
    "\n",
    "\n",
    "\n",
    "\n",
    "\n",
    "\n",
    "\n",
    "## topological filter\n",
    "\n",
    "__convert 2 way connections to a more structural representation. \n",
    "Imagine there is a branched strucutre, you only know there are a lot of points and each points have at least connected to another point. This structure is represented by segment-lines by default, each sement-lines contains connected point1 and point2. Now, you would like to know__ \n",
    "\n",
    "**1. how many unique points are there,\n",
    "2. how many connection each point has,\n",
    "3. which point is one connected with.\n",
    "\n",
    "input is a list of two-element-lists. The two-element-lists are consist of node-1 and node-2\n",
    "output is a tuple, every element of the tuple are id of node, the other node id it connects, the connection id\n",
    "For example:\n",
    "\n",
    "input:   \n",
    "\\[  \n",
    "\n",
    "[1,2],  \n",
    "[2,3],  \n",
    "[3,4],  \n",
    "[3,5],  \n",
    "[3,6],  \n",
    "[2,7],  \n",
    "\n",
    "\\]\n",
    "\n",
    "output:\n",
    "\n",
    "\\[  \n",
    "\n",
    "[  \n",
    "[1, 2, 0],  \n",
    "[4, 3, -2],  \n",
    "[5, 3, -3],  \n",
    "[6, 3, -4],  \n",
    "[7, 2, -5]  \n",
    "],\n",
    "\n",
    "[  \n",
    "[2, 1, 0, 3, 1, 7, 5]  \n",
    "],\n",
    "\n",
    "[  \n",
    "[3, 2, -1, 4, 2, 5, 3, 6, 4]  \n",
    "]\n",
    "\n",
    "\\]\n",
    "\n",
    "node_id "
   ]
  },
  {
   "cell_type": "code",
   "execution_count": 4,
   "metadata": {},
   "outputs": [],
   "source": [
    "\n",
    "a = [\n",
    "[1,2],\n",
    "[2,3],\n",
    "[3,4],\n",
    "[3,5],\n",
    "[3,6],\n",
    "[2,7],\n",
    "\n",
    "]"
   ]
  },
  {
   "cell_type": "code",
   "execution_count": 2,
   "metadata": {},
   "outputs": [],
   "source": [
    "import numpy as np\n",
    "\n",
    "def tof(input_connection):\n",
    "    position_switch=[1,0] # pick the other element of a 2 element index \n",
    "    positive_switch=[1,-1] # the first element is positive and the second is negative\n",
    "    unq, unq_idx, unq_cnt = np.unique(input_connection, return_inverse=True, return_counts=True)\n",
    "\n",
    "    total_output = []\n",
    "    for i, connection_number in enumerate(np.unique(unq_cnt)): # loop n connection\n",
    "        one_connection_output = []\n",
    "        node_index = np.where(unq_cnt == connection_number) # nodes with n connections\n",
    "        node = unq[node_index] # total number of nodes has n connection\n",
    "\n",
    "#         print(node)\n",
    "        for k, node_i in enumerate(node): # loop of nodes with n connections\n",
    "#             print('node_i',node_i)\n",
    "            row_output= [0]*(connection_number*2+1) # occupy a single row in the final output\n",
    "            row_output[0] = int(node_i)  # \n",
    "            \n",
    "            loc_col, loc_row = list(np.where(np.array(input_connection) == node_i ))\n",
    "            for j in range(0, connection_number):\n",
    "                row_output[j*2+1] = input_connection[loc_col[j]][position_switch[loc_row[j]]]\n",
    "\n",
    "                row_output[j*2+2] = (loc_col[j]+1) * positive_switch[loc_row[j]]\n",
    "            one_connection_output.append(row_output) \n",
    "        total_output.append(one_connection_output)\n",
    "    return total_output"
   ]
  },
  {
   "cell_type": "code",
   "execution_count": 5,
   "metadata": {},
   "outputs": [
    {
     "data": {
      "text/plain": [
       "[[[1, 2, 1], [4, 3, -3], [5, 3, -4], [6, 3, -5], [7, 2, -6]],\n",
       " [[2, 1, -1, 3, 2, 7, 6]],\n",
       " [[3, 2, -2, 4, 3, 5, 4, 6, 5]]]"
      ]
     },
     "execution_count": 5,
     "metadata": {},
     "output_type": "execute_result"
    }
   ],
   "source": [
    "tof(a)"
   ]
  },
  {
   "cell_type": "code",
   "execution_count": null,
   "metadata": {},
   "outputs": [],
   "source": []
  }
 ],
 "metadata": {
  "kernelspec": {
   "display_name": "Python 3",
   "language": "python",
   "name": "python3"
  },
  "language_info": {
   "codemirror_mode": {
    "name": "ipython",
    "version": 3
   },
   "file_extension": ".py",
   "mimetype": "text/x-python",
   "name": "python",
   "nbconvert_exporter": "python",
   "pygments_lexer": "ipython3",
   "version": "3.7.5"
  }
 },
 "nbformat": 4,
 "nbformat_minor": 4
}
